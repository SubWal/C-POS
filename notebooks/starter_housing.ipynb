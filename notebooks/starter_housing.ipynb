{
  "cells": [
    {
      "cell_type": "code",
      "execution_count": null,
      "metadata": {
        "id": "nxcVWzOSnOj-"
      },
      "outputs": [],
      "source": [
        "!pip install scikit-learn==1.5.2"
      ]
    },
    {
      "cell_type": "code",
      "execution_count": 1,
      "metadata": {
        "id": "mA0HPVmIBT4C"
      },
      "outputs": [],
      "source": [
        "import pandas as pd\n",
        "\n",
        "housing_data = pd.read_csv('https://raw.githubusercontent.com/byui-cse/cse450-course/master/data/housing.csv')"
      ]
    },
    {
      "cell_type": "code",
      "execution_count": 3,
      "metadata": {
        "colab": {
          "base_uri": "https://localhost:8080/"
        },
        "id": "StiU5QcPPxqQ",
        "outputId": "e1e30eda-f7f2-45c8-9a06-d5e569a1032a"
      },
      "outputs": [
        {
          "output_type": "stream",
          "name": "stdout",
          "text": [
            "<class 'pandas.core.frame.DataFrame'>\n",
            "RangeIndex: 20000 entries, 0 to 19999\n",
            "Data columns (total 21 columns):\n",
            " #   Column         Non-Null Count  Dtype  \n",
            "---  ------         --------------  -----  \n",
            " 0   id             20000 non-null  int64  \n",
            " 1   date           20000 non-null  object \n",
            " 2   bedrooms       20000 non-null  int64  \n",
            " 3   bathrooms      20000 non-null  float64\n",
            " 4   sqft_living    20000 non-null  int64  \n",
            " 5   sqft_lot       20000 non-null  int64  \n",
            " 6   floors         20000 non-null  float64\n",
            " 7   waterfront     20000 non-null  int64  \n",
            " 8   view           20000 non-null  int64  \n",
            " 9   condition      20000 non-null  int64  \n",
            " 10  grade          20000 non-null  int64  \n",
            " 11  sqft_above     20000 non-null  int64  \n",
            " 12  sqft_basement  20000 non-null  int64  \n",
            " 13  yr_built       20000 non-null  int64  \n",
            " 14  yr_renovated   20000 non-null  int64  \n",
            " 15  zipcode        20000 non-null  int64  \n",
            " 16  lat            20000 non-null  float64\n",
            " 17  long           20000 non-null  float64\n",
            " 18  sqft_living15  20000 non-null  int64  \n",
            " 19  sqft_lot15     20000 non-null  int64  \n",
            " 20  price          20000 non-null  float64\n",
            "dtypes: float64(5), int64(15), object(1)\n",
            "memory usage: 3.2+ MB\n"
          ]
        },
        {
          "output_type": "execute_result",
          "data": {
            "text/plain": [
              "(None,\n",
              "            id             date  bedrooms  bathrooms  sqft_living  sqft_lot  \\\n",
              " 0  1565930130  20141104T000000         4       3.25         3760      4675   \n",
              " 1  3279000420  20150115T000000         3       1.75         1460      7800   \n",
              " 2   194000575  20141014T000000         4       1.00         1340      5800   \n",
              " 3  2115510160  20141208T000000         3       1.75         1440      8050   \n",
              " 4  7522500005  20140815T000000         2       1.50         1780      4750   \n",
              " \n",
              "    floors  waterfront  view  condition  ...  sqft_above  sqft_basement  \\\n",
              " 0     2.0           0     0          3  ...        2740           1020   \n",
              " 1     1.0           0     0          2  ...        1040            420   \n",
              " 2     1.5           0     2          3  ...        1340              0   \n",
              " 3     1.0           0     0          3  ...        1440              0   \n",
              " 4     1.0           0     0          4  ...        1080            700   \n",
              " \n",
              "    yr_built  yr_renovated  zipcode      lat     long  sqft_living15  \\\n",
              " 0      2007             0    98038  47.3862 -122.048           3280   \n",
              " 1      1979             0    98023  47.3035 -122.382           1310   \n",
              " 2      1914             0    98116  47.5658 -122.389           1900   \n",
              " 3      1985             0    98023  47.3187 -122.390           1790   \n",
              " 4      1947             0    98117  47.6859 -122.395           1690   \n",
              " \n",
              "    sqft_lot15     price  \n",
              " 0        4033  429900.0  \n",
              " 1        7865  233000.0  \n",
              " 2        5800  455000.0  \n",
              " 3        7488  258950.0  \n",
              " 4        5962  555000.0  \n",
              " \n",
              " [5 rows x 21 columns])"
            ]
          },
          "metadata": {},
          "execution_count": 3
        }
      ],
      "source": [
        "housing_data.info(),housing_data.head()"
      ]
    },
    {
      "cell_type": "code",
      "execution_count": null,
      "metadata": {
        "id": "ALLMN63FPyEQ"
      },
      "outputs": [],
      "source": []
    },
    {
      "cell_type": "code",
      "execution_count": null,
      "metadata": {
        "id": "RnGBwGVZPyyh"
      },
      "outputs": [],
      "source": []
    },
    {
      "cell_type": "code",
      "execution_count": null,
      "metadata": {
        "id": "CVSfaqgKPzE2"
      },
      "outputs": [],
      "source": []
    }
  ],
  "metadata": {
    "colab": {
      "name": "starter_housing.ipynb",
      "provenance": []
    },
    "kernelspec": {
      "display_name": "Python 3",
      "name": "python3"
    }
  },
  "nbformat": 4,
  "nbformat_minor": 0
}